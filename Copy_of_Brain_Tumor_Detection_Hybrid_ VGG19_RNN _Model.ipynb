{
  "nbformat": 4,
  "nbformat_minor": 0,
  "metadata": {
    "colab": {
      "provenance": [],
      "gpuType": "T4"
    },
    "kernelspec": {
      "name": "python3",
      "display_name": "Python 3"
    },
    "language_info": {
      "name": "python"
    },
    "accelerator": "GPU"
  },
  "cells": [
    {
      "cell_type": "code",
      "execution_count": 1,
      "metadata": {
        "colab": {
          "base_uri": "https://localhost:8080/"
        },
        "id": "5XyHPVW9ploz",
        "outputId": "dcfd1e54-282a-46c8-aa4d-2e489a3babfe"
      },
      "outputs": [
        {
          "output_type": "stream",
          "name": "stdout",
          "text": [
            "Mounted at /content/drive\n"
          ]
        }
      ],
      "source": [
        "from google.colab import drive\n",
        "drive.mount('/content/drive')"
      ]
    },
    {
      "cell_type": "code",
      "source": [
        "!pip install opendatasets"
      ],
      "metadata": {
        "colab": {
          "base_uri": "https://localhost:8080/"
        },
        "id": "v8lU2JpTp4yN",
        "outputId": "fb3ff589-c799-47d7-d40f-3f48a6a3d3ef"
      },
      "execution_count": 2,
      "outputs": [
        {
          "output_type": "stream",
          "name": "stdout",
          "text": [
            "Collecting opendatasets\n",
            "  Downloading opendatasets-0.1.22-py3-none-any.whl (15 kB)\n",
            "Requirement already satisfied: tqdm in /usr/local/lib/python3.10/dist-packages (from opendatasets) (4.66.2)\n",
            "Requirement already satisfied: kaggle in /usr/local/lib/python3.10/dist-packages (from opendatasets) (1.5.16)\n",
            "Requirement already satisfied: click in /usr/local/lib/python3.10/dist-packages (from opendatasets) (8.1.7)\n",
            "Requirement already satisfied: six>=1.10 in /usr/local/lib/python3.10/dist-packages (from kaggle->opendatasets) (1.16.0)\n",
            "Requirement already satisfied: certifi in /usr/local/lib/python3.10/dist-packages (from kaggle->opendatasets) (2024.2.2)\n",
            "Requirement already satisfied: python-dateutil in /usr/local/lib/python3.10/dist-packages (from kaggle->opendatasets) (2.8.2)\n",
            "Requirement already satisfied: requests in /usr/local/lib/python3.10/dist-packages (from kaggle->opendatasets) (2.31.0)\n",
            "Requirement already satisfied: python-slugify in /usr/local/lib/python3.10/dist-packages (from kaggle->opendatasets) (8.0.4)\n",
            "Requirement already satisfied: urllib3 in /usr/local/lib/python3.10/dist-packages (from kaggle->opendatasets) (2.0.7)\n",
            "Requirement already satisfied: bleach in /usr/local/lib/python3.10/dist-packages (from kaggle->opendatasets) (6.1.0)\n",
            "Requirement already satisfied: webencodings in /usr/local/lib/python3.10/dist-packages (from bleach->kaggle->opendatasets) (0.5.1)\n",
            "Requirement already satisfied: text-unidecode>=1.3 in /usr/local/lib/python3.10/dist-packages (from python-slugify->kaggle->opendatasets) (1.3)\n",
            "Requirement already satisfied: charset-normalizer<4,>=2 in /usr/local/lib/python3.10/dist-packages (from requests->kaggle->opendatasets) (3.3.2)\n",
            "Requirement already satisfied: idna<4,>=2.5 in /usr/local/lib/python3.10/dist-packages (from requests->kaggle->opendatasets) (3.6)\n",
            "Installing collected packages: opendatasets\n",
            "Successfully installed opendatasets-0.1.22\n"
          ]
        }
      ]
    },
    {
      "cell_type": "code",
      "source": [
        "import opendatasets as ods\n",
        "dataset_url='https://www.kaggle.com/datasets/masoudnickparvar/brain-tumor-mri-dataset'\n",
        "dataset2_url='https://www.kaggle.com/datasets/mdaiyub/vgg19-weight'\n",
        "dataset3_url='https://www.kaggle.com/datasets/ramizhagverdiyev/best-modelh5'"
      ],
      "metadata": {
        "id": "bbBIUd3fqBHU"
      },
      "execution_count": 3,
      "outputs": []
    },
    {
      "cell_type": "markdown",
      "source": [
        "sername\":\"kavyasri1810\",\"key\":\"\"}f40705a19b8fcd291389cede01903a2f"
      ],
      "metadata": {
        "id": "2lbF6TPVqQqC"
      }
    },
    {
      "cell_type": "code",
      "source": [
        "ods.download(dataset_url)"
      ],
      "metadata": {
        "colab": {
          "base_uri": "https://localhost:8080/"
        },
        "id": "ePBhVC1LqMHe",
        "outputId": "2703ebd7-4b63-46a0-b9d2-53f78ea59967"
      },
      "execution_count": 4,
      "outputs": [
        {
          "output_type": "stream",
          "name": "stdout",
          "text": [
            "Please provide your Kaggle credentials to download this dataset. Learn more: http://bit.ly/kaggle-creds\n",
            "Your Kaggle username: kavyasri1810\n",
            "Your Kaggle Key: ··········\n",
            "Downloading brain-tumor-mri-dataset.zip to ./brain-tumor-mri-dataset\n"
          ]
        },
        {
          "output_type": "stream",
          "name": "stderr",
          "text": [
            "100%|██████████| 149M/149M [00:01<00:00, 78.1MB/s]\n"
          ]
        },
        {
          "output_type": "stream",
          "name": "stdout",
          "text": [
            "\n"
          ]
        }
      ]
    },
    {
      "cell_type": "code",
      "source": [
        "ods.download(dataset2_url)"
      ],
      "metadata": {
        "colab": {
          "base_uri": "https://localhost:8080/"
        },
        "id": "vgrtxlextM9I",
        "outputId": "f84c2714-0151-4654-e3da-c55036b721ad"
      },
      "execution_count": 5,
      "outputs": [
        {
          "output_type": "stream",
          "name": "stdout",
          "text": [
            "Please provide your Kaggle credentials to download this dataset. Learn more: http://bit.ly/kaggle-creds\n",
            "Your Kaggle username: kavyasri1810\n",
            "Your Kaggle Key: ··········\n",
            "Downloading vgg19-weight.zip to ./vgg19-weight\n"
          ]
        },
        {
          "output_type": "stream",
          "name": "stderr",
          "text": [
            "100%|██████████| 71.0M/71.0M [00:01<00:00, 62.0MB/s]\n"
          ]
        },
        {
          "output_type": "stream",
          "name": "stdout",
          "text": [
            "\n"
          ]
        }
      ]
    },
    {
      "cell_type": "code",
      "source": [
        "ods.download(dataset3_url)"
      ],
      "metadata": {
        "colab": {
          "base_uri": "https://localhost:8080/"
        },
        "id": "Gese9rk4wqe-",
        "outputId": "dadf1d37-5826-47dc-b543-e205d02059ba"
      },
      "execution_count": 6,
      "outputs": [
        {
          "output_type": "stream",
          "name": "stdout",
          "text": [
            "Please provide your Kaggle credentials to download this dataset. Learn more: http://bit.ly/kaggle-creds\n",
            "Your Kaggle username: kavyasri1810\n",
            "Your Kaggle Key: ··········\n",
            "Downloading best-modelh5.zip to ./best-modelh5\n"
          ]
        },
        {
          "output_type": "stream",
          "name": "stderr",
          "text": [
            "100%|██████████| 96.5k/96.5k [00:00<00:00, 31.4MB/s]"
          ]
        },
        {
          "output_type": "stream",
          "name": "stdout",
          "text": [
            "\n"
          ]
        },
        {
          "output_type": "stream",
          "name": "stderr",
          "text": [
            "\n"
          ]
        }
      ]
    },
    {
      "cell_type": "code",
      "source": [],
      "metadata": {
        "id": "V2itfbCLtSsw"
      },
      "execution_count": 6,
      "outputs": []
    },
    {
      "cell_type": "code",
      "source": [
        "import tensorflow as tf\n",
        "import gc\n",
        "from tensorflow.keras.layers import AveragePooling2D\n",
        "from tensorflow.keras.layers import Dropout, GlobalAveragePooling2D, Activation, BatchNormalization, Dropout, LSTM, ConvLSTM2D\n",
        "from tensorflow.keras.layers import Flatten\n",
        "from tensorflow.keras.layers import Dense\n",
        "from tensorflow.keras.applications import VGG19\n",
        "from tensorflow.keras.layers import Input,Conv2D, SeparableConv2D, MaxPool2D, LeakyReLU, Activation, LSTM, ConvLSTM2D, Lambda, Reshape, BatchNormalization, Bidirectional\n",
        "from tensorflow.keras.models import Model, Sequential\n",
        "from tensorflow.keras.optimizers import Adam, RMSprop\n",
        "from tensorflow.keras.utils import to_categorical\n",
        "from tensorflow.keras.callbacks import EarlyStopping, ReduceLROnPlateau, ModelCheckpoint,TensorBoard,TerminateOnNaN, LearningRateScheduler, CSVLogger\n",
        "from tensorflow.keras.losses import binary_crossentropy\n",
        "from tensorflow.keras.callbacks import ModelCheckpoint, EarlyStopping, ReduceLROnPlateau, TerminateOnNaN\n",
        "from tensorflow.keras.layers import Lambda, Reshape, DepthwiseConv2D, ZeroPadding2D, Add, MaxPooling2D,Activation, Flatten, Conv2D, Dense, Input, Dropout, Concatenate, GlobalMaxPooling2D, GlobalAveragePooling2D, BatchNormalization\n",
        "from tensorflow.keras.optimizers import Adam\n",
        "from tensorflow.keras import regularizers\n",
        "from tensorflow.keras.regularizers import l2\n",
        "from tensorflow.keras import layers\n",
        "from tensorflow.keras import backend as K\n",
        "from tensorflow.keras.preprocessing.image import ImageDataGenerator\n",
        "from sklearn.preprocessing import LabelBinarizer\n",
        "from sklearn.model_selection import train_test_split, StratifiedKFold, RepeatedStratifiedKFold\n",
        "from sklearn.metrics import classification_report, accuracy_score, confusion_matrix, roc_auc_score, roc_curve, auc\n",
        "import matplotlib.pyplot as plt\n",
        "from tensorflow.keras.utils import plot_model\n",
        "from tensorflow.keras.layers.experimental import preprocessing\n",
        "from keras.applications import imagenet_utils\n",
        "from tensorflow.keras import layers\n",
        "!pip install tensorflow-addons\n",
        "import tensorflow_addons as tfa\n",
        "import pandas as pd\n",
        "import numpy as np\n",
        "import random\n",
        "import keras\n",
        "import shutil\n",
        "import pathlib\n",
        "import itertools\n",
        "import cv2\n",
        "import os\n",
        "import matplotlib.image as mpimg\n",
        "import seaborn as sns\n"
      ],
      "metadata": {
        "colab": {
          "base_uri": "https://localhost:8080/"
        },
        "id": "3BYGARlqqlGz",
        "outputId": "1e36a2f5-8c9a-430f-9e9a-2264054d7ccc"
      },
      "execution_count": 7,
      "outputs": [
        {
          "output_type": "stream",
          "name": "stdout",
          "text": [
            "Collecting tensorflow-addons\n",
            "  Downloading tensorflow_addons-0.23.0-cp310-cp310-manylinux_2_17_x86_64.manylinux2014_x86_64.whl (611 kB)\n",
            "\u001b[?25l     \u001b[90m━━━━━━━━━━━━━━━━━━━━━━━━━━━━━━━━━━━━━━━━\u001b[0m \u001b[32m0.0/611.8 kB\u001b[0m \u001b[31m?\u001b[0m eta \u001b[36m-:--:--\u001b[0m\r\u001b[2K     \u001b[91m━━━━━━━━━━\u001b[0m\u001b[90m╺\u001b[0m\u001b[90m━━━━━━━━━━━━━━━━━━━━━━━━━━━━━\u001b[0m \u001b[32m153.6/611.8 kB\u001b[0m \u001b[31m4.5 MB/s\u001b[0m eta \u001b[36m0:00:01\u001b[0m\r\u001b[2K     \u001b[91m━━━━━━━━━━━━━━━━━━━━━━━━━━━━━━━━━━━━\u001b[0m\u001b[91m╸\u001b[0m\u001b[90m━━━\u001b[0m \u001b[32m563.2/611.8 kB\u001b[0m \u001b[31m8.0 MB/s\u001b[0m eta \u001b[36m0:00:01\u001b[0m\r\u001b[2K     \u001b[90m━━━━━━━━━━━━━━━━━━━━━━━━━━━━━━━━━━━━━━━━\u001b[0m \u001b[32m611.8/611.8 kB\u001b[0m \u001b[31m7.3 MB/s\u001b[0m eta \u001b[36m0:00:00\u001b[0m\n",
            "\u001b[?25hRequirement already satisfied: packaging in /usr/local/lib/python3.10/dist-packages (from tensorflow-addons) (24.0)\n",
            "Collecting typeguard<3.0.0,>=2.7 (from tensorflow-addons)\n",
            "  Downloading typeguard-2.13.3-py3-none-any.whl (17 kB)\n",
            "Installing collected packages: typeguard, tensorflow-addons\n",
            "Successfully installed tensorflow-addons-0.23.0 typeguard-2.13.3\n"
          ]
        },
        {
          "output_type": "stream",
          "name": "stderr",
          "text": [
            "/usr/local/lib/python3.10/dist-packages/tensorflow_addons/utils/tfa_eol_msg.py:23: UserWarning: \n",
            "\n",
            "TensorFlow Addons (TFA) has ended development and introduction of new features.\n",
            "TFA has entered a minimal maintenance and release mode until a planned end of life in May 2024.\n",
            "Please modify downstream libraries to take dependencies from other repositories in our TensorFlow community (e.g. Keras, Keras-CV, and Keras-NLP). \n",
            "\n",
            "For more information see: https://github.com/tensorflow/addons/issues/2807 \n",
            "\n",
            "  warnings.warn(\n"
          ]
        }
      ]
    },
    {
      "cell_type": "code",
      "source": [
        "train_dir = '/content/brain-tumor-mri-dataset/Training'\n",
        "test_dir = '/content/brain-tumor-mri-dataset/Testing'"
      ],
      "metadata": {
        "id": "HAeSllB1qwhI"
      },
      "execution_count": 8,
      "outputs": []
    },
    {
      "cell_type": "code",
      "source": [
        "for dirpath, dirnames, filenames in os.walk(train_dir):\n",
        "  print(f\"There are {len(dirnames)} directories and {len(filenames)} images in '{dirpath}'.\")\n"
      ],
      "metadata": {
        "colab": {
          "base_uri": "https://localhost:8080/"
        },
        "id": "iYvJ1NqzrBsq",
        "outputId": "9c8de58d-0bac-4dd6-fb1f-37953874d345"
      },
      "execution_count": 9,
      "outputs": [
        {
          "output_type": "stream",
          "name": "stdout",
          "text": [
            "There are 4 directories and 0 images in '/content/brain-tumor-mri-dataset/Training'.\n",
            "There are 0 directories and 1457 images in '/content/brain-tumor-mri-dataset/Training/pituitary'.\n",
            "There are 0 directories and 1339 images in '/content/brain-tumor-mri-dataset/Training/meningioma'.\n",
            "There are 0 directories and 1595 images in '/content/brain-tumor-mri-dataset/Training/notumor'.\n",
            "There are 0 directories and 1321 images in '/content/brain-tumor-mri-dataset/Training/glioma'.\n"
          ]
        }
      ]
    },
    {
      "cell_type": "code",
      "source": [
        "for dirpath, dirnames, filenames in os.walk(test_dir):\n",
        "  print(f\"There are {len(dirnames)} directories and {len(filenames)} images in '{dirpath}'.\")"
      ],
      "metadata": {
        "colab": {
          "base_uri": "https://localhost:8080/"
        },
        "id": "6mZNukQArMro",
        "outputId": "c0743181-50a3-4b1f-8666-9c160615c13e"
      },
      "execution_count": 10,
      "outputs": [
        {
          "output_type": "stream",
          "name": "stdout",
          "text": [
            "There are 4 directories and 0 images in '/content/brain-tumor-mri-dataset/Testing'.\n",
            "There are 0 directories and 300 images in '/content/brain-tumor-mri-dataset/Testing/pituitary'.\n",
            "There are 0 directories and 306 images in '/content/brain-tumor-mri-dataset/Testing/meningioma'.\n",
            "There are 0 directories and 405 images in '/content/brain-tumor-mri-dataset/Testing/notumor'.\n",
            "There are 0 directories and 300 images in '/content/brain-tumor-mri-dataset/Testing/glioma'.\n"
          ]
        }
      ]
    },
    {
      "cell_type": "code",
      "source": [
        "import os\n",
        "import random\n",
        "import matplotlib.pyplot as plt\n",
        "import matplotlib.image as mpimg\n",
        "\n",
        "def view_random_image(target_dir, target_class):\n",
        "    # Construct the path to the target folder\n",
        "    target_folder = os.path.join(target_dir, target_class)\n",
        "\n",
        "    # Check if the target folder exists\n",
        "    if not os.path.exists(target_folder):\n",
        "        print(f\"Error: Folder '{target_folder}' does not exist.\")\n",
        "        return None\n",
        "\n",
        "    # List all files in the target folder\n",
        "    files = os.listdir(target_folder)\n",
        "\n",
        "    # Check if there are any files in the folder\n",
        "    if not files:\n",
        "        print(f\"Error: Folder '{target_folder}' is empty.\")\n",
        "        return None\n",
        "\n",
        "    # Select a random image from the folder\n",
        "    random_image_name = random.choice(files)\n",
        "\n",
        "    # Construct the path to the random image\n",
        "    random_image_path = os.path.join(target_folder, random_image_name)\n",
        "\n",
        "    # Load and display the image\n",
        "    img = mpimg.imread(random_image_path)\n",
        "    plt.imshow(img)\n",
        "    plt.title(target_class)\n",
        "    plt.axis(\"off\")\n",
        "    print(f\"Image shape: {img.shape}\")\n",
        "\n",
        "    return img\n",
        "\n",
        "# Example usage:\n",
        "test_dir = \"/content/brain-tumor-mri-dataset/Testing\"\n",
        "target_class = \"glioma\"\n",
        "\n",
        "img = view_random_image(target_dir=test_dir, target_class=target_class)\n",
        "import os\n",
        "import random\n",
        "import matplotlib.pyplot as plt\n",
        "import matplotlib.image as mpimg\n",
        "\n",
        "def view_random_image(target_dir, target_class):\n",
        "    # Construct the path to the target folder\n",
        "    target_folder = os.path.join(target_dir, target_class)\n",
        "\n",
        "    # Check if the target folder exists\n",
        "    if not os.path.exists(target_folder):\n",
        "        print(f\"Error: Folder '{target_folder}' does not exist.\")\n",
        "        return None\n",
        "\n",
        "    # List all files in the target folder\n",
        "    files = os.listdir(target_folder)\n",
        "\n",
        "    # Check if there are any files in the folder\n",
        "    if not files:\n",
        "        print(f\"Error: Folder '{target_folder}' is empty.\")\n",
        "        return None\n",
        "\n",
        "    # Select a random image from the folder\n",
        "    random_image_name = random.choice(files)\n",
        "\n",
        "    # Construct the path to the random image\n",
        "    random_image_path = os.path.join(target_folder, random_image_name)\n",
        "\n",
        "    # Load and display the image\n",
        "    img = mpimg.imread(random_image_path)\n",
        "    plt.imshow(img)\n",
        "    plt.title(target_class)\n",
        "    plt.axis(\"off\")\n",
        "    print(f\"Image shape: {img.shape}\")\n",
        "\n",
        "    return img\n",
        "\n",
        "# Example usage:\n",
        "test_dir = \"/content/brain-tumor-mri-dataset/Testing\"\n",
        "target_class = \"glioma\"\n",
        "\n",
        "img = view_random_image(target_dir=test_dir, target_class=target_class)\n",
        "import os\n",
        "import random\n",
        "import matplotlib.pyplot as plt\n",
        "import matplotlib.image as mpimg\n",
        "\n",
        "def view_random_image(target_dir, target_class):\n",
        "    # Construct the path to the target folder\n",
        "    target_folder = os.path.join(target_dir, target_class)\n",
        "\n",
        "    # Check if the target folder exists\n",
        "    if not os.path.exists(target_folder):\n",
        "        print(f\"Error: Folder '{target_folder}' does not exist.\")\n",
        "        return None\n",
        "\n",
        "    # List all files in the target folder\n",
        "    files = os.listdir(target_folder)\n",
        "\n",
        "    # Check if there are any files in the folder\n",
        "    if not files:\n",
        "        print(f\"Error: Folder '{target_folder}' is empty.\")\n",
        "        return None\n",
        "\n",
        "    # Select a random image from the folder\n",
        "    random_image_name = random.choice(files)\n",
        "\n",
        "    # Construct the path to the random image\n",
        "    random_image_path = os.path.join(target_folder, random_image_name)\n",
        "\n",
        "    # Load and display the image\n",
        "    img = mpimg.imread(random_image_path)\n",
        "    plt.imshow(img)\n",
        "    plt.title(target_class)\n",
        "    plt.axis(\"off\")\n",
        "    print(f\"Image shape: {img.shape}\")\n",
        "\n",
        "    return img\n",
        "\n",
        "# Example usage:\n",
        "test_dir = \"/content/brain-tumor-mri-dataset/Testing\"\n",
        "target_class = \"glioma\"\n",
        "\n",
        "img = view_random_image(target_dir=test_dir, target_class=target_class)\n"
      ],
      "metadata": {
        "colab": {
          "base_uri": "https://localhost:8080/",
          "height": 480
        },
        "id": "QxDxC924sJwV",
        "outputId": "a70a1e32-f3fc-4d66-fdfa-5ff55ed86e45"
      },
      "execution_count": 11,
      "outputs": [
        {
          "output_type": "stream",
          "name": "stdout",
          "text": [
            "Image shape: (512, 512)\n",
            "Image shape: (512, 512, 3)\n",
            "Image shape: (512, 512)\n"
          ]
        },
        {
          "output_type": "display_data",
          "data": {
            "text/plain": [
              "<Figure size 640x480 with 1 Axes>"
            ],
            "image/png": "[encoded data removed]"
          },
          "metadata": {}
        }
      ]
    },
    {
      "cell_type": "code",
      "source": [
        "def view_random_image(target_dir, target_class):\n",
        "  target_folder = target_dir+target_class\n",
        "  random_image = random.sample(os.listdir(target_folder), 1)\n",
        "  img = mpimg.imread(target_folder + \"/\" + random_image[0])\n",
        "  plt.imshow(img)\n",
        "  plt.title(target_class)\n",
        "  plt.axis(\"off\");\n",
        "  print(f\"Image shape: {img.shape}\")\n",
        "  return img"
      ],
      "metadata": {
        "id": "mmB4lI1TrT2i"
      },
      "execution_count": 12,
      "outputs": []
    },
    {
      "cell_type": "code",
      "source": [
        "#img = view_random_image(target_dir=test_dir,target_class=\"glioma\")"
      ],
      "metadata": {
        "id": "vgo_2PoZrdEQ"
      },
      "execution_count": 13,
      "outputs": []
    },
    {
      "cell_type": "code",
      "source": [
        "EPOCHS = 10\n",
        "from math import floor\n",
        "N_FOLDS = 5\n",
        "INIT_LR = 1e-3\n",
        "T_BS = 16\n",
        "V_BS = 16\n",
        "decay_rate = 0.95\n",
        "decay_step = 1\n",
        "IMAGE_SIZE = [224,224]"
      ],
      "metadata": {
        "id": "xAVomfb7sV_A"
      },
      "execution_count": 14,
      "outputs": []
    },
    {
      "cell_type": "code",
      "source": [
        "!pip install tensorflow-addons\n",
        "import tensorflow_addons as tfa\n",
        "\n",
        "def augment_image(image, label):\n",
        "    # Apply augmentation transformations\n",
        "    image = tf.image.random_flip_left_right(image)\n",
        "    image = tf.image.random_flip_up_down(image)\n",
        "    image = tf.image.random_brightness(image, max_delta=0.1)\n",
        "    image = tf.image.random_contrast(image, lower=0.8, upper=1.2)\n",
        "    image = tf.image.random_saturation(image, lower=0.8, upper=1.2)\n",
        "    image = tf.image.random_hue(image, max_delta=0.1)\n",
        "\n",
        "    # Apply the width and height shifts\n",
        "    width_shift = tf.random.uniform([], -0.2, 0.2) * tf.cast(tf.shape(image)[1], tf.float32)\n",
        "    height_shift = tf.random.uniform([], -0.2, 0.2) * tf.cast(tf.shape(image)[0], tf.float32)\n",
        "    image = tfa.image.translate(image, [width_shift, height_shift])\n",
        "\n",
        "    return image, label"
      ],
      "metadata": {
        "colab": {
          "base_uri": "https://localhost:8080/"
        },
        "id": "kZQEtO2iscEy",
        "outputId": "21dfc083-45de-4911-9e98-442e4fc1fe55"
      },
      "execution_count": 15,
      "outputs": [
        {
          "output_type": "stream",
          "name": "stdout",
          "text": [
            "Requirement already satisfied: tensorflow-addons in /usr/local/lib/python3.10/dist-packages (0.23.0)\n",
            "Requirement already satisfied: packaging in /usr/local/lib/python3.10/dist-packages (from tensorflow-addons) (24.0)\n",
            "Requirement already satisfied: typeguard<3.0.0,>=2.7 in /usr/local/lib/python3.10/dist-packages (from tensorflow-addons) (2.13.3)\n"
          ]
        }
      ]
    },
    {
      "cell_type": "code",
      "source": [
        "train_data = tf.keras.preprocessing.image_dataset_from_directory(train_dir,\n",
        "                                                                 label_mode=\"categorical\",\n",
        "                                                                 batch_size=32,\n",
        "                                                                 image_size=IMAGE_SIZE)\n",
        "\n",
        "test_data = tf.keras.preprocessing.image_dataset_from_directory(test_dir,\n",
        "                                                                label_mode=\"categorical\",\n",
        "                                                                image_size=IMAGE_SIZE,\n",
        "                                                                shuffle=False)"
      ],
      "metadata": {
        "colab": {
          "base_uri": "https://localhost:8080/"
        },
        "id": "X2qvq-fCsjoo",
        "outputId": "ca2efe04-9b17-45bf-d4d8-ef5fce8353b5"
      },
      "execution_count": 16,
      "outputs": [
        {
          "output_type": "stream",
          "name": "stdout",
          "text": [
            "Found 5712 files belonging to 4 classes.\n",
            "Found 1311 files belonging to 4 classes.\n"
          ]
        }
      ]
    },
    {
      "cell_type": "code",
      "source": [
        "\n",
        "train_dataset_augmented = train_data.map(augment_image)\n"
      ],
      "metadata": {
        "id": "8e8fvqgBstTx"
      },
      "execution_count": 17,
      "outputs": []
    },
    {
      "cell_type": "code",
      "source": [
        "def Combined_model():\n",
        "    # Input layer\n",
        "    input_layer = Input(shape=(224, 224, 3))\n",
        "\n",
        "    # Base VGG19 model as a feature extractor\n",
        "    baseModel = VGG19(weights=None, include_top=False, input_tensor=input_layer)\n",
        "\n",
        "    # Load the weights from the local file (specify the path)\n",
        "    baseModel.load_weights('/content/vgg19-weight/vgg19_weights_tf_dim_ordering_tf_kernels_notop.h5')\n",
        "\n",
        "    # Freeze the layers of the VGG19 model\n",
        "    for layer in baseModel.layers:\n",
        "        layer.trainable = False\n",
        "\n",
        "    x = baseModel.output\n",
        "\n",
        "    # LSTM layer\n",
        "    x = Reshape((49, 512))(x)\n",
        "    x = LSTM(512, activation=\"elu\", return_sequences=True, trainable=False)(x)\n",
        "    x = BatchNormalization()(x)\n",
        "\n",
        "    # FC layer\n",
        "    x = Flatten(name=\"flatten\")(x)\n",
        "\n",
        "    # fc1 layer\n",
        "    x = Dense(units=4096, activation='elu')(x)\n",
        "    x = BatchNormalization()(x)\n",
        "\n",
        "    # fc2 layer\n",
        "    x = Dense(units=4096, activation='elu')(x)\n",
        "    x = BatchNormalization()(x)\n",
        "\n",
        "    # Output layer\n",
        "    output = Dense(units=4, activation='softmax')(x)\n",
        "\n",
        "    model = Model(inputs=input_layer, outputs=output)\n",
        "    opt = Adam(lr=1e3)\n",
        "    model.compile(loss='categorical_crossentropy', optimizer=opt, metrics=[\"accuracy\"])\n",
        "\n",
        "    return model\n",
        "\n",
        "# Create the model\n",
        "model = Combined_model()\n",
        "\n",
        "# Print the model summary\n",
        "model.summary()"
      ],
      "metadata": {
        "colab": {
          "base_uri": "https://localhost:8080/"
        },
        "id": "le8SKOyPsvS3",
        "outputId": "01e04c9d-6805-4a30-e925-e6b05b7f6a55"
      },
      "execution_count": 18,
      "outputs": [
        {
          "output_type": "stream",
          "name": "stderr",
          "text": [
            "WARNING:tensorflow:Layer lstm will not use cuDNN kernels since it doesn't meet the criteria. It will use a generic GPU kernel as fallback when running on GPU.\n",
            "WARNING:absl:`lr` is deprecated in Keras optimizer, please use `learning_rate` or use the legacy optimizer, e.g.,tf.keras.optimizers.legacy.Adam.\n"
          ]
        },
        {
          "output_type": "stream",
          "name": "stdout",
          "text": [
            "Model: \"model\"\n",
            "_________________________________________________________________\n",
            " Layer (type)                Output Shape              Param #   \n",
            "=================================================================\n",
            " input_1 (InputLayer)        [(None, 224, 224, 3)]     0         \n",
            "                                                                 \n",
            " block1_conv1 (Conv2D)       (None, 224, 224, 64)      1792      \n",
            "                                                                 \n",
            " block1_conv2 (Conv2D)       (None, 224, 224, 64)      36928     \n",
            "                                                                 \n",
            " block1_pool (MaxPooling2D)  (None, 112, 112, 64)      0         \n",
            "                                                                 \n",
            " block2_conv1 (Conv2D)       (None, 112, 112, 128)     73856     \n",
            "                                                                 \n",
            " block2_conv2 (Conv2D)       (None, 112, 112, 128)     147584    \n",
            "                                                                 \n",
            " block2_pool (MaxPooling2D)  (None, 56, 56, 128)       0         \n",
            "                                                                 \n",
            " block3_conv1 (Conv2D)       (None, 56, 56, 256)       295168    \n",
            "                                                                 \n",
            " block3_conv2 (Conv2D)       (None, 56, 56, 256)       590080    \n",
            "                                                                 \n",
            " block3_conv3 (Conv2D)       (None, 56, 56, 256)       590080    \n",
            "                                                                 \n",
            " block3_conv4 (Conv2D)       (None, 56, 56, 256)       590080    \n",
            "                                                                 \n",
            " block3_pool (MaxPooling2D)  (None, 28, 28, 256)       0         \n",
            "                                                                 \n",
            " block4_conv1 (Conv2D)       (None, 28, 28, 512)       1180160   \n",
            "                                                                 \n",
            " block4_conv2 (Conv2D)       (None, 28, 28, 512)       2359808   \n",
            "                                                                 \n",
            " block4_conv3 (Conv2D)       (None, 28, 28, 512)       2359808   \n",
            "                                                                 \n",
            " block4_conv4 (Conv2D)       (None, 28, 28, 512)       2359808   \n",
            "                                                                 \n",
            " block4_pool (MaxPooling2D)  (None, 14, 14, 512)       0         \n",
            "                                                                 \n",
            " block5_conv1 (Conv2D)       (None, 14, 14, 512)       2359808   \n",
            "                                                                 \n",
            " block5_conv2 (Conv2D)       (None, 14, 14, 512)       2359808   \n",
            "                                                                 \n",
            " block5_conv3 (Conv2D)       (None, 14, 14, 512)       2359808   \n",
            "                                                                 \n",
            " block5_conv4 (Conv2D)       (None, 14, 14, 512)       2359808   \n",
            "                                                                 \n",
            " block5_pool (MaxPooling2D)  (None, 7, 7, 512)         0         \n",
            "                                                                 \n",
            " reshape (Reshape)           (None, 49, 512)           0         \n",
            "                                                                 \n",
            " lstm (LSTM)                 (None, 49, 512)           2099200   \n",
            "                                                                 \n",
            " batch_normalization (Batch  (None, 49, 512)           2048      \n",
            " Normalization)                                                  \n",
            "                                                                 \n",
            " flatten (Flatten)           (None, 25088)             0         \n",
            "                                                                 \n",
            " dense (Dense)               (None, 4096)              102764544 \n",
            "                                                                 \n",
            " batch_normalization_1 (Bat  (None, 4096)              16384     \n",
            " chNormalization)                                                \n",
            "                                                                 \n",
            " dense_1 (Dense)             (None, 4096)              16781312  \n",
            "                                                                 \n",
            " batch_normalization_2 (Bat  (None, 4096)              16384     \n",
            " chNormalization)                                                \n",
            "                                                                 \n",
            " dense_2 (Dense)             (None, 4)                 16388     \n",
            "                                                                 \n",
            "=================================================================\n",
            "Total params: 141720644 (540.62 MB)\n",
            "Trainable params: 119579652 (456.16 MB)\n",
            "Non-trainable params: 22140992 (84.46 MB)\n",
            "_________________________________________________________________\n"
          ]
        }
      ]
    },
    {
      "cell_type": "code",
      "source": [
        "checkpoint = [ModelCheckpoint(filepath='/content/best-modelh5/best_model.h5', monitor='val_accuracy',mode='max',verbose=1,save_best_only=True,save_weights_only=True),\n",
        "             LearningRateScheduler(lambda epoch : INIT_LR * pow(decay_rate, floor(epoch / decay_step)))]\n",
        "earlystop = EarlyStopping(monitor='accuracy', min_delta=0, patience=15, verbose=1, mode='max')"
      ],
      "metadata": {
        "id": "zkSW14NTtoyY"
      },
      "execution_count": 19,
      "outputs": []
    },
    {
      "cell_type": "code",
      "source": [
        "history = model.fit(train_dataset_augmented,\n",
        "                    epochs=10,\n",
        "                    steps_per_epoch=len(train_dataset_augmented),\n",
        "                    validation_data = test_data,\n",
        "                    callbacks=[checkpoint])"
      ],
      "metadata": {
        "colab": {
          "base_uri": "https://localhost:8080/"
        },
        "id": "BnRss1Nxt07F",
        "outputId": "39b4a2c1-1df7-4eb9-ce0c-14f8cdaf5b8e"
      },
      "execution_count": null,
      "outputs": [
        {
          "output_type": "stream",
          "name": "stdout",
          "text": [
            "Epoch 1/10\n",
            "179/179 [==============================] - ETA: 0s - loss: 1.3812 - accuracy: 0.7666\n",
            "Epoch 1: val_accuracy improved from -inf to 0.81388, saving model to /content/best-modelh5/best_model.h5\n",
            "179/179 [==============================] - 90s 422ms/step - loss: 1.3812 - accuracy: 0.7666 - val_loss: 0.7304 - val_accuracy: 0.8139 - lr: 0.0010\n",
            "Epoch 2/10\n",
            "179/179 [==============================] - ETA: 0s - loss: 0.4222 - accuracy: 0.8473\n",
            "Epoch 2: val_accuracy improved from 0.81388 to 0.83524, saving model to /content/best-modelh5/best_model.h5\n",
            "179/179 [==============================] - 57s 316ms/step - loss: 0.4222 - accuracy: 0.8473 - val_loss: 0.6099 - val_accuracy: 0.8352 - lr: 9.5000e-04\n",
            "Epoch 3/10\n",
            "179/179 [==============================] - ETA: 0s - loss: 0.3675 - accuracy: 0.8745\n",
            "Epoch 3: val_accuracy improved from 0.83524 to 0.88787, saving model to /content/best-modelh5/best_model.h5\n",
            "179/179 [==============================] - 60s 331ms/step - loss: 0.3675 - accuracy: 0.8745 - val_loss: 0.3521 - val_accuracy: 0.8879 - lr: 9.0250e-04\n",
            "Epoch 4/10\n",
            "179/179 [==============================] - ETA: 0s - loss: 0.2864 - accuracy: 0.8999\n",
            "Epoch 4: val_accuracy improved from 0.88787 to 0.89016, saving model to /content/best-modelh5/best_model.h5\n",
            "179/179 [==============================] - 54s 300ms/step - loss: 0.2864 - accuracy: 0.8999 - val_loss: 0.3797 - val_accuracy: 0.8902 - lr: 8.5737e-04\n",
            "Epoch 5/10\n",
            "179/179 [==============================] - ETA: 0s - loss: 0.2811 - accuracy: 0.9056\n",
            "Epoch 5: val_accuracy improved from 0.89016 to 0.91609, saving model to /content/best-modelh5/best_model.h5\n",
            "179/179 [==============================] - 57s 318ms/step - loss: 0.2811 - accuracy: 0.9056 - val_loss: 0.2637 - val_accuracy: 0.9161 - lr: 8.1451e-04\n",
            "Epoch 6/10\n",
            " 68/179 [==========>...................] - ETA: 27s - loss: 0.2540 - accuracy: 0.9141"
          ]
        }
      ]
    },
    {
      "cell_type": "code",
      "source": [
        "model.load_weights('/content/best-modelh5/best_model.h5')\n",
        "_, accuracy = model.evaluate(test_data)\n",
        "print(f\"Validation accuracy: {round(accuracy * 100, 2)}%\")"
      ],
      "metadata": {
        "id": "pXZ_gOBXt69N"
      },
      "execution_count": null,
      "outputs": []
    },
    {
      "cell_type": "code",
      "source": [
        "pred_probs = model.predict(test_data, verbose=1)"
      ],
      "metadata": {
        "id": "tkiw7-N6xBeW"
      },
      "execution_count": null,
      "outputs": []
    },
    {
      "cell_type": "code",
      "source": [
        "pred_classes = pred_probs.argmax(axis=1)\n",
        "\n",
        "y_labels = []\n",
        "for images, labels in test_data.unbatch():\n",
        "  y_labels.append(labels.numpy().argmax())"
      ],
      "metadata": {
        "id": "ERKr2zJAxEVc"
      },
      "execution_count": null,
      "outputs": []
    },
    {
      "cell_type": "code",
      "source": [
        "target_names = ['Glioma', 'Meningioma', 'No Tumor','Pituitary']\n",
        "print(classification_report(y_labels,\n",
        "                            pred_classes,\n",
        "                            target_names=target_names, digits=4))"
      ],
      "metadata": {
        "id": "0wycMVq1xG-k"
      },
      "execution_count": null,
      "outputs": []
    },
    {
      "cell_type": "code",
      "source": [
        "cm = confusion_matrix(y_labels,pred_classes)\n",
        "\n",
        "TP = cm[0, 0]\n",
        "TN = cm[1:, 1:].sum()\n",
        "FP = cm[0, 1:].sum()\n",
        "FN = cm[1:, 0].sum()\n",
        "\n",
        "Population = TN+FN+TP+FP\n",
        "spesificity = TN / (TN + FP)\n",
        "sensitivity = TP / (TP + FN)\n",
        "\n",
        "print(\"True Positives:\", TP)\n",
        "print(\"False Positives:\", FP)\n",
        "print(\"True Negatives:\", TN)\n",
        "print(\"False Negatives:\", FN)\n",
        "print(\"Specificity:\", spesificity)\n",
        "print(\"Sensitivity:\", sensitivity)"
      ],
      "metadata": {
        "id": "CYaAqdsGxLzW"
      },
      "execution_count": null,
      "outputs": []
    },
    {
      "cell_type": "code",
      "source": [
        "def make_confusion_matrix(y_true, y_pred, classes=None, figsize=(20, 20), text_size=15, norm=False, savefig=False):\n",
        "\n",
        "  cm = confusion_matrix(y_true, y_pred)\n",
        "  cm_norm = cm.astype(\"float\") / cm.sum(axis=1)[:, np.newaxis]\n",
        "  n_classes = cm.shape[0]\n",
        "\n",
        "  fig, ax = plt.subplots(figsize=figsize)\n",
        "  cax = ax.matshow(cm, cmap=plt.cm.Blues)\n",
        "  fig.colorbar(cax)\n",
        "\n",
        "  if classes:\n",
        "    labels = classes\n",
        "  else:\n",
        "    labels = np.arange(cm.shape[0])\n",
        "\n",
        "  ax.grid(False)\n",
        "\n",
        "  ax.set(title=\"Confusion Matrix\",\n",
        "         xlabel=\"Predicted label\",\n",
        "         ylabel=\"True label\",\n",
        "         xticks=np.arange(n_classes),\n",
        "         yticks=np.arange(n_classes),\n",
        "         xticklabels=labels,\n",
        "         yticklabels=labels)\n",
        "\n",
        "  ax.xaxis.set_label_position(\"bottom\")\n",
        "  ax.xaxis.tick_bottom()\n",
        "\n",
        "  plt.xticks(rotation=70, fontsize=text_size)\n",
        "  plt.yticks(fontsize=text_size)\n",
        "\n",
        "  threshold = (cm.max() + cm.min()) / 2.\n",
        "\n",
        "  for i, j in itertools.product(range(cm.shape[0]), range(cm.shape[1])):\n",
        "    if norm:\n",
        "      plt.text(j, i, f\"{cm[i, j]} ({cm_norm[i, j]*100:.1f}%)\",\n",
        "              horizontalalignment=\"center\",\n",
        "              color=\"white\" if cm[i, j] > threshold else \"black\",\n",
        "              size=text_size)\n",
        "    else:\n",
        "      plt.text(j, i, f\"{cm[i, j]}\",\n",
        "              horizontalalignment=\"center\",\n",
        "              color=\"white\" if cm[i, j] > threshold else \"black\",\n",
        "              size=text_size)"
      ],
      "metadata": {
        "id": "q7dKZmEFxTGA"
      },
      "execution_count": null,
      "outputs": []
    },
    {
      "cell_type": "code",
      "source": [
        "make_confusion_matrix(y_true=y_labels,\n",
        "                      y_pred=pred_classes,\n",
        "                      classes=target_names,\n",
        "                      figsize=(5, 5),\n",
        "                      text_size=12,\n",
        "                      norm=False,\n",
        "                      savefig=True)"
      ],
      "metadata": {
        "id": "lUXZnVoVxT45"
      },
      "execution_count": null,
      "outputs": []
    },
    {
      "cell_type": "code",
      "source": [
        "loss = history.history['loss']\n",
        "val_loss = history.history['val_loss']\n",
        "epochs = range(1, len(loss) + 1)\n",
        "\n",
        "plt.figure(figsize=(5.5, 4))\n",
        "\n",
        "plt.plot(epochs, loss, 'y', label='Training loss')\n",
        "plt.plot(epochs, val_loss, 'r', label='Validation loss')\n",
        "plt.title('Training and Validation Loss', fontsize=12)\n",
        "plt.xlabel('Epochs', fontsize=10)\n",
        "plt.ylabel('Loss', fontsize=10)\n",
        "plt.legend(fontsize=10)\n",
        "\n",
        "plt.xticks(fontsize=10)\n",
        "plt.yticks(fontsize=10)\n",
        "\n",
        "plt.grid(False)\n",
        "\n",
        "plt.tight_layout()\n",
        "plt.show()\n"
      ],
      "metadata": {
        "id": "NYCjtur4xWMj"
      },
      "execution_count": null,
      "outputs": []
    },
    {
      "cell_type": "code",
      "source": [
        "loss = history.history['accuracy']\n",
        "val_loss = history.history['val_accuracy']\n",
        "epochs = range(1, len(loss) + 1)\n",
        "\n",
        "plt.figure(figsize=(5.5, 4))\n",
        "\n",
        "plt.plot(epochs, loss, 'y', label='Training acc')\n",
        "plt.plot(epochs, val_loss, 'r', label='Validation acc')\n",
        "plt.title('Training and Validation Loss', fontsize=12)\n",
        "plt.xlabel('Epochs', fontsize=10)\n",
        "plt.ylabel('Loss', fontsize=10)\n",
        "plt.legend(fontsize=10)\n",
        "\n",
        "plt.xticks(fontsize=10)\n",
        "plt.yticks(fontsize=10)\n",
        "\n",
        "plt.grid(False)\n",
        "\n",
        "plt.tight_layout()\n",
        "plt.show()\n"
      ],
      "metadata": {
        "id": "2uvg8Weexdnv"
      },
      "execution_count": null,
      "outputs": []
    },
    {
      "cell_type": "code",
      "source": [],
      "metadata": {
        "id": "1JgeESjbxijA"
      },
      "execution_count": null,
      "outputs": []
    }
  ]
}